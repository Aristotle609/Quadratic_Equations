{
 "cells": [
  {
   "cell_type": "code",
   "execution_count": 3,
   "source": [
    "import pandas as pd \r\n",
    "import numpy as np\r\n",
    "import pytorch_lightning as pl\r\n",
    "import imageio\r\n",
    "import matplotlib.pyplot as plt\r\n",
    "%matplotlib inline"
   ],
   "outputs": [],
   "metadata": {}
  },
  {
   "cell_type": "code",
   "execution_count": 2,
   "source": [
    "pd.read_csv(\"../Data/Quadratic Equation Full Details.csv\")"
   ],
   "outputs": [
    {
     "output_type": "execute_result",
     "data": {
      "text/plain": [
       "            id                path   a   b   c  root_1  root_2  \\\n",
       "0     eqn_0000  quadratic/eqn_0000   1   7   4 -0.6277 -6.3723   \n",
       "1     eqn_0001  quadratic/eqn_0001  15 -22 -76  3.1007 -1.6340   \n",
       "2     eqn_0002  quadratic/eqn_0002  12  33  22 -1.1356 -1.6144   \n",
       "3     eqn_0003  quadratic/eqn_0003  14 -10 -25  1.7404 -1.0261   \n",
       "4     eqn_0004  quadratic/eqn_0004   4  10  -6  0.5000 -3.0000   \n",
       "...        ...                 ...  ..  ..  ..     ...     ...   \n",
       "1995  eqn_1995  quadratic/eqn_1995   5  38   9 -0.2447 -7.3553   \n",
       "1996  eqn_1996  quadratic/eqn_1996  17 -24   4  1.2187  0.1931   \n",
       "1997  eqn_1997  quadratic/eqn_1997   2   8  -5  0.5495 -4.5495   \n",
       "1998  eqn_1998  quadratic/eqn_1998   1   9   7 -0.8599 -8.1401   \n",
       "1999  eqn_1999  quadratic/eqn_1999  16  79  26 -0.3546 -4.5829   \n",
       "\n",
       "               equation  \n",
       "0       x² + 7x + 4 = 0  \n",
       "1       15x² - 22x = 76  \n",
       "2      33x + 22 = -12x²  \n",
       "3       14x² - 10x = 25  \n",
       "4     4x² + 10x - 6 = 0  \n",
       "...                 ...  \n",
       "1995     38x + 9 = -5x²  \n",
       "1996    17x² - 24x = -4  \n",
       "1997   2x² + 8x - 5 = 0  \n",
       "1998    x² + 9x + 7 = 0  \n",
       "1999   79x + 26 = -16x²  \n",
       "\n",
       "[2000 rows x 8 columns]"
      ],
      "text/html": [
       "<div>\n",
       "<style scoped>\n",
       "    .dataframe tbody tr th:only-of-type {\n",
       "        vertical-align: middle;\n",
       "    }\n",
       "\n",
       "    .dataframe tbody tr th {\n",
       "        vertical-align: top;\n",
       "    }\n",
       "\n",
       "    .dataframe thead th {\n",
       "        text-align: right;\n",
       "    }\n",
       "</style>\n",
       "<table border=\"1\" class=\"dataframe\">\n",
       "  <thead>\n",
       "    <tr style=\"text-align: right;\">\n",
       "      <th></th>\n",
       "      <th>id</th>\n",
       "      <th>path</th>\n",
       "      <th>a</th>\n",
       "      <th>b</th>\n",
       "      <th>c</th>\n",
       "      <th>root_1</th>\n",
       "      <th>root_2</th>\n",
       "      <th>equation</th>\n",
       "    </tr>\n",
       "  </thead>\n",
       "  <tbody>\n",
       "    <tr>\n",
       "      <th>0</th>\n",
       "      <td>eqn_0000</td>\n",
       "      <td>quadratic/eqn_0000</td>\n",
       "      <td>1</td>\n",
       "      <td>7</td>\n",
       "      <td>4</td>\n",
       "      <td>-0.6277</td>\n",
       "      <td>-6.3723</td>\n",
       "      <td>x² + 7x + 4 = 0</td>\n",
       "    </tr>\n",
       "    <tr>\n",
       "      <th>1</th>\n",
       "      <td>eqn_0001</td>\n",
       "      <td>quadratic/eqn_0001</td>\n",
       "      <td>15</td>\n",
       "      <td>-22</td>\n",
       "      <td>-76</td>\n",
       "      <td>3.1007</td>\n",
       "      <td>-1.6340</td>\n",
       "      <td>15x² - 22x = 76</td>\n",
       "    </tr>\n",
       "    <tr>\n",
       "      <th>2</th>\n",
       "      <td>eqn_0002</td>\n",
       "      <td>quadratic/eqn_0002</td>\n",
       "      <td>12</td>\n",
       "      <td>33</td>\n",
       "      <td>22</td>\n",
       "      <td>-1.1356</td>\n",
       "      <td>-1.6144</td>\n",
       "      <td>33x + 22 = -12x²</td>\n",
       "    </tr>\n",
       "    <tr>\n",
       "      <th>3</th>\n",
       "      <td>eqn_0003</td>\n",
       "      <td>quadratic/eqn_0003</td>\n",
       "      <td>14</td>\n",
       "      <td>-10</td>\n",
       "      <td>-25</td>\n",
       "      <td>1.7404</td>\n",
       "      <td>-1.0261</td>\n",
       "      <td>14x² - 10x = 25</td>\n",
       "    </tr>\n",
       "    <tr>\n",
       "      <th>4</th>\n",
       "      <td>eqn_0004</td>\n",
       "      <td>quadratic/eqn_0004</td>\n",
       "      <td>4</td>\n",
       "      <td>10</td>\n",
       "      <td>-6</td>\n",
       "      <td>0.5000</td>\n",
       "      <td>-3.0000</td>\n",
       "      <td>4x² + 10x - 6 = 0</td>\n",
       "    </tr>\n",
       "    <tr>\n",
       "      <th>...</th>\n",
       "      <td>...</td>\n",
       "      <td>...</td>\n",
       "      <td>...</td>\n",
       "      <td>...</td>\n",
       "      <td>...</td>\n",
       "      <td>...</td>\n",
       "      <td>...</td>\n",
       "      <td>...</td>\n",
       "    </tr>\n",
       "    <tr>\n",
       "      <th>1995</th>\n",
       "      <td>eqn_1995</td>\n",
       "      <td>quadratic/eqn_1995</td>\n",
       "      <td>5</td>\n",
       "      <td>38</td>\n",
       "      <td>9</td>\n",
       "      <td>-0.2447</td>\n",
       "      <td>-7.3553</td>\n",
       "      <td>38x + 9 = -5x²</td>\n",
       "    </tr>\n",
       "    <tr>\n",
       "      <th>1996</th>\n",
       "      <td>eqn_1996</td>\n",
       "      <td>quadratic/eqn_1996</td>\n",
       "      <td>17</td>\n",
       "      <td>-24</td>\n",
       "      <td>4</td>\n",
       "      <td>1.2187</td>\n",
       "      <td>0.1931</td>\n",
       "      <td>17x² - 24x = -4</td>\n",
       "    </tr>\n",
       "    <tr>\n",
       "      <th>1997</th>\n",
       "      <td>eqn_1997</td>\n",
       "      <td>quadratic/eqn_1997</td>\n",
       "      <td>2</td>\n",
       "      <td>8</td>\n",
       "      <td>-5</td>\n",
       "      <td>0.5495</td>\n",
       "      <td>-4.5495</td>\n",
       "      <td>2x² + 8x - 5 = 0</td>\n",
       "    </tr>\n",
       "    <tr>\n",
       "      <th>1998</th>\n",
       "      <td>eqn_1998</td>\n",
       "      <td>quadratic/eqn_1998</td>\n",
       "      <td>1</td>\n",
       "      <td>9</td>\n",
       "      <td>7</td>\n",
       "      <td>-0.8599</td>\n",
       "      <td>-8.1401</td>\n",
       "      <td>x² + 9x + 7 = 0</td>\n",
       "    </tr>\n",
       "    <tr>\n",
       "      <th>1999</th>\n",
       "      <td>eqn_1999</td>\n",
       "      <td>quadratic/eqn_1999</td>\n",
       "      <td>16</td>\n",
       "      <td>79</td>\n",
       "      <td>26</td>\n",
       "      <td>-0.3546</td>\n",
       "      <td>-4.5829</td>\n",
       "      <td>79x + 26 = -16x²</td>\n",
       "    </tr>\n",
       "  </tbody>\n",
       "</table>\n",
       "<p>2000 rows × 8 columns</p>\n",
       "</div>"
      ]
     },
     "metadata": {},
     "execution_count": 2
    }
   ],
   "metadata": {}
  },
  {
   "cell_type": "code",
   "execution_count": 4,
   "source": [
    "path_dir = \"../Data/Images of Equations/\" + \"eqn_0000.png\"\r\n",
    "pic = imageio.imread(path_dir)\r\n",
    "plt.figure(figsize = (5,5))\r\n",
    "plt.imshow(pic)"
   ],
   "outputs": [
    {
     "output_type": "execute_result",
     "data": {
      "text/plain": [
       "<matplotlib.image.AxesImage at 0x2547694aac0>"
      ]
     },
     "metadata": {},
     "execution_count": 4
    },
    {
     "output_type": "display_data",
     "data": {
      "text/plain": [
       "<Figure size 360x360 with 1 Axes>"
      ],
      "image/svg+xml": "<?xml version=\"1.0\" encoding=\"utf-8\" standalone=\"no\"?>\r\n<!DOCTYPE svg PUBLIC \"-//W3C//DTD SVG 1.1//EN\"\r\n  \"http://www.w3.org/Graphics/SVG/1.1/DTD/svg11.dtd\">\r\n<!-- Created with matplotlib (https://matplotlib.org/) -->\r\n<svg height=\"127.412344pt\" version=\"1.1\" viewBox=\"0 0 313.125 127.412344\" width=\"313.125pt\" xmlns=\"http://www.w3.org/2000/svg\" xmlns:xlink=\"http://www.w3.org/1999/xlink\">\r\n <metadata>\r\n  <rdf:RDF xmlns:cc=\"http://creativecommons.org/ns#\" xmlns:dc=\"http://purl.org/dc/elements/1.1/\" xmlns:rdf=\"http://www.w3.org/1999/02/22-rdf-syntax-ns#\">\r\n   <cc:Work>\r\n    <dc:type rdf:resource=\"http://purl.org/dc/dcmitype/StillImage\"/>\r\n    <dc:date>2021-08-20T20:21:37.711015</dc:date>\r\n    <dc:format>image/svg+xml</dc:format>\r\n    <dc:creator>\r\n     <cc:Agent>\r\n      <dc:title>Matplotlib v3.3.4, https://matplotlib.org/</dc:title>\r\n     </cc:Agent>\r\n    </dc:creator>\r\n   </cc:Work>\r\n  </rdf:RDF>\r\n </metadata>\r\n <defs>\r\n  <style type=\"text/css\">*{stroke-linecap:butt;stroke-linejoin:round;}</style>\r\n </defs>\r\n <g id=\"figure_1\">\r\n  <g id=\"patch_1\">\r\n   <path d=\"M 0 127.412344 \r\nL 313.125 127.412344 \r\nL 313.125 0 \r\nL 0 0 \r\nz\r\n\" style=\"fill:none;\"/>\r\n  </g>\r\n  <g id=\"axes_1\">\r\n   <g id=\"patch_2\">\r\n    <path d=\"M 26.925 103.534219 \r\nL 305.925 103.534219 \r\nL 305.925 10.534219 \r\nL 26.925 10.534219 \r\nz\r\n\" style=\"fill:#ffffff;\"/>\r\n   </g>\r\n   <g clip-path=\"url(#p5b9fa80816)\">\r\n    <image height=\"93\" id=\"imagee8a7b53721\" transform=\"scale(1 -1)translate(0 -93)\" width=\"279\" x=\"26.925\" xlink:href=\"data:image/png;base64,\r\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\" y=\"-10.534219\"/>\r\n   </g>\r\n   <g id=\"matplotlib.axis_1\">\r\n    <g id=\"xtick_1\">\r\n     <g id=\"line2d_1\">\r\n      <defs>\r\n       <path d=\"M 0 0 \r\nL 0 3.5 \r\n\" id=\"mc6e77e62da\" style=\"stroke:#000000;stroke-width:0.8;\"/>\r\n      </defs>\r\n      <g>\r\n       <use style=\"stroke:#000000;stroke-width:0.8;\" x=\"27.39\" xlink:href=\"#mc6e77e62da\" y=\"103.534219\"/>\r\n      </g>\r\n     </g>\r\n     <g id=\"text_1\">\r\n      <!-- 0 -->\r\n      <g transform=\"translate(24.20875 118.132656)scale(0.1 -0.1)\">\r\n       <defs>\r\n        <path d=\"M 31.78125 66.40625 \r\nQ 24.171875 66.40625 20.328125 58.90625 \r\nQ 16.5 51.421875 16.5 36.375 \r\nQ 16.5 21.390625 20.328125 13.890625 \r\nQ 24.171875 6.390625 31.78125 6.390625 \r\nQ 39.453125 6.390625 43.28125 13.890625 \r\nQ 47.125 21.390625 47.125 36.375 \r\nQ 47.125 51.421875 43.28125 58.90625 \r\nQ 39.453125 66.40625 31.78125 66.40625 \r\nz\r\nM 31.78125 74.21875 \r\nQ 44.046875 74.21875 50.515625 64.515625 \r\nQ 56.984375 54.828125 56.984375 36.375 \r\nQ 56.984375 17.96875 50.515625 8.265625 \r\nQ 44.046875 -1.421875 31.78125 -1.421875 \r\nQ 19.53125 -1.421875 13.0625 8.265625 \r\nQ 6.59375 17.96875 6.59375 36.375 \r\nQ 6.59375 54.828125 13.0625 64.515625 \r\nQ 19.53125 74.21875 31.78125 74.21875 \r\nz\r\n\" id=\"DejaVuSans-48\"/>\r\n       </defs>\r\n       <use xlink:href=\"#DejaVuSans-48\"/>\r\n      </g>\r\n     </g>\r\n    </g>\r\n    <g id=\"xtick_2\">\r\n     <g id=\"line2d_2\">\r\n      <g>\r\n       <use style=\"stroke:#000000;stroke-width:0.8;\" x=\"73.89\" xlink:href=\"#mc6e77e62da\" y=\"103.534219\"/>\r\n      </g>\r\n     </g>\r\n     <g id=\"text_2\">\r\n      <!-- 50 -->\r\n      <g transform=\"translate(67.5275 118.132656)scale(0.1 -0.1)\">\r\n       <defs>\r\n        <path d=\"M 10.796875 72.90625 \r\nL 49.515625 72.90625 \r\nL 49.515625 64.59375 \r\nL 19.828125 64.59375 \r\nL 19.828125 46.734375 \r\nQ 21.96875 47.46875 24.109375 47.828125 \r\nQ 26.265625 48.1875 28.421875 48.1875 \r\nQ 40.625 48.1875 47.75 41.5 \r\nQ 54.890625 34.8125 54.890625 23.390625 \r\nQ 54.890625 11.625 47.5625 5.09375 \r\nQ 40.234375 -1.421875 26.90625 -1.421875 \r\nQ 22.3125 -1.421875 17.546875 -0.640625 \r\nQ 12.796875 0.140625 7.71875 1.703125 \r\nL 7.71875 11.625 \r\nQ 12.109375 9.234375 16.796875 8.0625 \r\nQ 21.484375 6.890625 26.703125 6.890625 \r\nQ 35.15625 6.890625 40.078125 11.328125 \r\nQ 45.015625 15.765625 45.015625 23.390625 \r\nQ 45.015625 31 40.078125 35.4375 \r\nQ 35.15625 39.890625 26.703125 39.890625 \r\nQ 22.75 39.890625 18.8125 39.015625 \r\nQ 14.890625 38.140625 10.796875 36.28125 \r\nz\r\n\" id=\"DejaVuSans-53\"/>\r\n       </defs>\r\n       <use xlink:href=\"#DejaVuSans-53\"/>\r\n       <use x=\"63.623047\" xlink:href=\"#DejaVuSans-48\"/>\r\n      </g>\r\n     </g>\r\n    </g>\r\n    <g id=\"xtick_3\">\r\n     <g id=\"line2d_3\">\r\n      <g>\r\n       <use style=\"stroke:#000000;stroke-width:0.8;\" x=\"120.39\" xlink:href=\"#mc6e77e62da\" y=\"103.534219\"/>\r\n      </g>\r\n     </g>\r\n     <g id=\"text_3\">\r\n      <!-- 100 -->\r\n      <g transform=\"translate(110.84625 118.132656)scale(0.1 -0.1)\">\r\n       <defs>\r\n        <path d=\"M 12.40625 8.296875 \r\nL 28.515625 8.296875 \r\nL 28.515625 63.921875 \r\nL 10.984375 60.40625 \r\nL 10.984375 69.390625 \r\nL 28.421875 72.90625 \r\nL 38.28125 72.90625 \r\nL 38.28125 8.296875 \r\nL 54.390625 8.296875 \r\nL 54.390625 0 \r\nL 12.40625 0 \r\nz\r\n\" id=\"DejaVuSans-49\"/>\r\n       </defs>\r\n       <use xlink:href=\"#DejaVuSans-49\"/>\r\n       <use x=\"63.623047\" xlink:href=\"#DejaVuSans-48\"/>\r\n       <use x=\"127.246094\" xlink:href=\"#DejaVuSans-48\"/>\r\n      </g>\r\n     </g>\r\n    </g>\r\n    <g id=\"xtick_4\">\r\n     <g id=\"line2d_4\">\r\n      <g>\r\n       <use style=\"stroke:#000000;stroke-width:0.8;\" x=\"166.89\" xlink:href=\"#mc6e77e62da\" y=\"103.534219\"/>\r\n      </g>\r\n     </g>\r\n     <g id=\"text_4\">\r\n      <!-- 150 -->\r\n      <g transform=\"translate(157.34625 118.132656)scale(0.1 -0.1)\">\r\n       <use xlink:href=\"#DejaVuSans-49\"/>\r\n       <use x=\"63.623047\" xlink:href=\"#DejaVuSans-53\"/>\r\n       <use x=\"127.246094\" xlink:href=\"#DejaVuSans-48\"/>\r\n      </g>\r\n     </g>\r\n    </g>\r\n    <g id=\"xtick_5\">\r\n     <g id=\"line2d_5\">\r\n      <g>\r\n       <use style=\"stroke:#000000;stroke-width:0.8;\" x=\"213.39\" xlink:href=\"#mc6e77e62da\" y=\"103.534219\"/>\r\n      </g>\r\n     </g>\r\n     <g id=\"text_5\">\r\n      <!-- 200 -->\r\n      <g transform=\"translate(203.84625 118.132656)scale(0.1 -0.1)\">\r\n       <defs>\r\n        <path d=\"M 19.1875 8.296875 \r\nL 53.609375 8.296875 \r\nL 53.609375 0 \r\nL 7.328125 0 \r\nL 7.328125 8.296875 \r\nQ 12.9375 14.109375 22.625 23.890625 \r\nQ 32.328125 33.6875 34.8125 36.53125 \r\nQ 39.546875 41.84375 41.421875 45.53125 \r\nQ 43.3125 49.21875 43.3125 52.78125 \r\nQ 43.3125 58.59375 39.234375 62.25 \r\nQ 35.15625 65.921875 28.609375 65.921875 \r\nQ 23.96875 65.921875 18.8125 64.3125 \r\nQ 13.671875 62.703125 7.8125 59.421875 \r\nL 7.8125 69.390625 \r\nQ 13.765625 71.78125 18.9375 73 \r\nQ 24.125 74.21875 28.421875 74.21875 \r\nQ 39.75 74.21875 46.484375 68.546875 \r\nQ 53.21875 62.890625 53.21875 53.421875 \r\nQ 53.21875 48.921875 51.53125 44.890625 \r\nQ 49.859375 40.875 45.40625 35.40625 \r\nQ 44.1875 33.984375 37.640625 27.21875 \r\nQ 31.109375 20.453125 19.1875 8.296875 \r\nz\r\n\" id=\"DejaVuSans-50\"/>\r\n       </defs>\r\n       <use xlink:href=\"#DejaVuSans-50\"/>\r\n       <use x=\"63.623047\" xlink:href=\"#DejaVuSans-48\"/>\r\n       <use x=\"127.246094\" xlink:href=\"#DejaVuSans-48\"/>\r\n      </g>\r\n     </g>\r\n    </g>\r\n    <g id=\"xtick_6\">\r\n     <g id=\"line2d_6\">\r\n      <g>\r\n       <use style=\"stroke:#000000;stroke-width:0.8;\" x=\"259.89\" xlink:href=\"#mc6e77e62da\" y=\"103.534219\"/>\r\n      </g>\r\n     </g>\r\n     <g id=\"text_6\">\r\n      <!-- 250 -->\r\n      <g transform=\"translate(250.34625 118.132656)scale(0.1 -0.1)\">\r\n       <use xlink:href=\"#DejaVuSans-50\"/>\r\n       <use x=\"63.623047\" xlink:href=\"#DejaVuSans-53\"/>\r\n       <use x=\"127.246094\" xlink:href=\"#DejaVuSans-48\"/>\r\n      </g>\r\n     </g>\r\n    </g>\r\n   </g>\r\n   <g id=\"matplotlib.axis_2\">\r\n    <g id=\"ytick_1\">\r\n     <g id=\"line2d_7\">\r\n      <defs>\r\n       <path d=\"M 0 0 \r\nL -3.5 0 \r\n\" id=\"me57dbfd487\" style=\"stroke:#000000;stroke-width:0.8;\"/>\r\n      </defs>\r\n      <g>\r\n       <use style=\"stroke:#000000;stroke-width:0.8;\" x=\"26.925\" xlink:href=\"#me57dbfd487\" y=\"10.999219\"/>\r\n      </g>\r\n     </g>\r\n     <g id=\"text_7\">\r\n      <!-- 0 -->\r\n      <g transform=\"translate(13.5625 14.798437)scale(0.1 -0.1)\">\r\n       <use xlink:href=\"#DejaVuSans-48\"/>\r\n      </g>\r\n     </g>\r\n    </g>\r\n    <g id=\"ytick_2\">\r\n     <g id=\"line2d_8\">\r\n      <g>\r\n       <use style=\"stroke:#000000;stroke-width:0.8;\" x=\"26.925\" xlink:href=\"#me57dbfd487\" y=\"34.249219\"/>\r\n      </g>\r\n     </g>\r\n     <g id=\"text_8\">\r\n      <!-- 25 -->\r\n      <g transform=\"translate(7.2 38.048437)scale(0.1 -0.1)\">\r\n       <use xlink:href=\"#DejaVuSans-50\"/>\r\n       <use x=\"63.623047\" xlink:href=\"#DejaVuSans-53\"/>\r\n      </g>\r\n     </g>\r\n    </g>\r\n    <g id=\"ytick_3\">\r\n     <g id=\"line2d_9\">\r\n      <g>\r\n       <use style=\"stroke:#000000;stroke-width:0.8;\" x=\"26.925\" xlink:href=\"#me57dbfd487\" y=\"57.499219\"/>\r\n      </g>\r\n     </g>\r\n     <g id=\"text_9\">\r\n      <!-- 50 -->\r\n      <g transform=\"translate(7.2 61.298437)scale(0.1 -0.1)\">\r\n       <use xlink:href=\"#DejaVuSans-53\"/>\r\n       <use x=\"63.623047\" xlink:href=\"#DejaVuSans-48\"/>\r\n      </g>\r\n     </g>\r\n    </g>\r\n    <g id=\"ytick_4\">\r\n     <g id=\"line2d_10\">\r\n      <g>\r\n       <use style=\"stroke:#000000;stroke-width:0.8;\" x=\"26.925\" xlink:href=\"#me57dbfd487\" y=\"80.749219\"/>\r\n      </g>\r\n     </g>\r\n     <g id=\"text_10\">\r\n      <!-- 75 -->\r\n      <g transform=\"translate(7.2 84.548437)scale(0.1 -0.1)\">\r\n       <defs>\r\n        <path d=\"M 8.203125 72.90625 \r\nL 55.078125 72.90625 \r\nL 55.078125 68.703125 \r\nL 28.609375 0 \r\nL 18.3125 0 \r\nL 43.21875 64.59375 \r\nL 8.203125 64.59375 \r\nz\r\n\" id=\"DejaVuSans-55\"/>\r\n       </defs>\r\n       <use xlink:href=\"#DejaVuSans-55\"/>\r\n       <use x=\"63.623047\" xlink:href=\"#DejaVuSans-53\"/>\r\n      </g>\r\n     </g>\r\n    </g>\r\n   </g>\r\n   <g id=\"patch_3\">\r\n    <path d=\"M 26.925 103.534219 \r\nL 26.925 10.534219 \r\n\" style=\"fill:none;stroke:#000000;stroke-linecap:square;stroke-linejoin:miter;stroke-width:0.8;\"/>\r\n   </g>\r\n   <g id=\"patch_4\">\r\n    <path d=\"M 305.925 103.534219 \r\nL 305.925 10.534219 \r\n\" style=\"fill:none;stroke:#000000;stroke-linecap:square;stroke-linejoin:miter;stroke-width:0.8;\"/>\r\n   </g>\r\n   <g id=\"patch_5\">\r\n    <path d=\"M 26.925 103.534219 \r\nL 305.925 103.534219 \r\n\" style=\"fill:none;stroke:#000000;stroke-linecap:square;stroke-linejoin:miter;stroke-width:0.8;\"/>\r\n   </g>\r\n   <g id=\"patch_6\">\r\n    <path d=\"M 26.925 10.534219 \r\nL 305.925 10.534219 \r\n\" style=\"fill:none;stroke:#000000;stroke-linecap:square;stroke-linejoin:miter;stroke-width:0.8;\"/>\r\n   </g>\r\n  </g>\r\n </g>\r\n <defs>\r\n  <clipPath id=\"p5b9fa80816\">\r\n   <rect height=\"93\" width=\"279\" x=\"26.925\" y=\"10.534219\"/>\r\n  </clipPath>\r\n </defs>\r\n</svg>\r\n",
      "image/png": "[encoded data removed]"
     },
     "metadata": {
      "needs_background": "light"
     }
    }
   ],
   "metadata": {}
  },
  {
   "cell_type": "markdown",
   "source": [
    "All the images are similar"
   ],
   "metadata": {}
  },
  {
   "cell_type": "code",
   "execution_count": 5,
   "source": [
    "print('Type of the image : ' , type(pic)) \r\n",
    "print('Shape of the image : {}'.format(pic.shape)) \r\n",
    "print('Image Height {}'.format(pic.shape[0])) \r\n",
    "print('Image Width {}'.format(pic.shape[1])) \r\n",
    "print('Dimension of Image {}'.format(pic.ndim))"
   ],
   "outputs": [
    {
     "output_type": "stream",
     "name": "stdout",
     "text": [
      "Type of the image :  <class 'imageio.core.util.Array'>\n",
      "Shape of the image : (100, 300, 4)\n",
      "Image Hight 100\n",
      "Image Width 300\n",
      "Dimension of Image 3\n"
     ]
    }
   ],
   "metadata": {}
  }
 ],
 "metadata": {
  "orig_nbformat": 4,
  "language_info": {
   "name": "python",
   "version": "3.8.8",
   "mimetype": "text/x-python",
   "codemirror_mode": {
    "name": "ipython",
    "version": 3
   },
   "pygments_lexer": "ipython3",
   "nbconvert_exporter": "python",
   "file_extension": ".py"
  },
  "kernelspec": {
   "name": "python3",
   "display_name": "Python 3.8.5 64-bit ('base': conda)"
  },
  "interpreter": {
   "hash": "4d4a3dd4375ee30bcdff52ac50802b9d969049935209e01e98bdd8a1e4960c49"
  }
 },
 "nbformat": 4,
 "nbformat_minor": 2
}