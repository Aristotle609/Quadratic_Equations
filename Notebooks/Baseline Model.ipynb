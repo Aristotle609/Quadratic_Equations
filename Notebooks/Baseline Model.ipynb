{
 "cells": [
  {
   "cell_type": "code",
   "execution_count": 198,
   "source": [
    "import pandas as pd\r\n",
    "import numpy as np\r\n",
    "from torch.utils.data import DataLoader,Dataset\r\n",
    "from torchvision import transforms\r\n",
    "from torch import nn\r\n",
    "import cv2\r\n",
    "import pytorch_lightning as pl\r\n",
    "import torch\r\n",
    "from sklearn.model_selection import train_test_split"
   ],
   "outputs": [],
   "metadata": {}
  },
  {
   "cell_type": "code",
   "execution_count": 199,
   "source": [
    "input_df = \"../Data/Quadratic Equation Full Details.csv\"\r\n",
    "dir_path = \"../Data/Images of Equations\"\r\n",
    "df = pd.read_csv(input_df)\r\n",
    "df"
   ],
   "outputs": [
    {
     "output_type": "execute_result",
     "data": {
      "text/plain": [
       "            id                path   a   b   c  root_1  root_2  \\\n",
       "0     eqn_0000  quadratic/eqn_0000   1   7   4 -0.6277 -6.3723   \n",
       "1     eqn_0001  quadratic/eqn_0001  15 -22 -76  3.1007 -1.6340   \n",
       "2     eqn_0002  quadratic/eqn_0002  12  33  22 -1.1356 -1.6144   \n",
       "3     eqn_0003  quadratic/eqn_0003  14 -10 -25  1.7404 -1.0261   \n",
       "4     eqn_0004  quadratic/eqn_0004   4  10  -6  0.5000 -3.0000   \n",
       "...        ...                 ...  ..  ..  ..     ...     ...   \n",
       "1995  eqn_1995  quadratic/eqn_1995   5  38   9 -0.2447 -7.3553   \n",
       "1996  eqn_1996  quadratic/eqn_1996  17 -24   4  1.2187  0.1931   \n",
       "1997  eqn_1997  quadratic/eqn_1997   2   8  -5  0.5495 -4.5495   \n",
       "1998  eqn_1998  quadratic/eqn_1998   1   9   7 -0.8599 -8.1401   \n",
       "1999  eqn_1999  quadratic/eqn_1999  16  79  26 -0.3546 -4.5829   \n",
       "\n",
       "               equation  \n",
       "0       x² + 7x + 4 = 0  \n",
       "1       15x² - 22x = 76  \n",
       "2      33x + 22 = -12x²  \n",
       "3       14x² - 10x = 25  \n",
       "4     4x² + 10x - 6 = 0  \n",
       "...                 ...  \n",
       "1995     38x + 9 = -5x²  \n",
       "1996    17x² - 24x = -4  \n",
       "1997   2x² + 8x - 5 = 0  \n",
       "1998    x² + 9x + 7 = 0  \n",
       "1999   79x + 26 = -16x²  \n",
       "\n",
       "[2000 rows x 8 columns]"
      ],
      "text/html": [
       "<div>\n",
       "<style scoped>\n",
       "    .dataframe tbody tr th:only-of-type {\n",
       "        vertical-align: middle;\n",
       "    }\n",
       "\n",
       "    .dataframe tbody tr th {\n",
       "        vertical-align: top;\n",
       "    }\n",
       "\n",
       "    .dataframe thead th {\n",
       "        text-align: right;\n",
       "    }\n",
       "</style>\n",
       "<table border=\"1\" class=\"dataframe\">\n",
       "  <thead>\n",
       "    <tr style=\"text-align: right;\">\n",
       "      <th></th>\n",
       "      <th>id</th>\n",
       "      <th>path</th>\n",
       "      <th>a</th>\n",
       "      <th>b</th>\n",
       "      <th>c</th>\n",
       "      <th>root_1</th>\n",
       "      <th>root_2</th>\n",
       "      <th>equation</th>\n",
       "    </tr>\n",
       "  </thead>\n",
       "  <tbody>\n",
       "    <tr>\n",
       "      <th>0</th>\n",
       "      <td>eqn_0000</td>\n",
       "      <td>quadratic/eqn_0000</td>\n",
       "      <td>1</td>\n",
       "      <td>7</td>\n",
       "      <td>4</td>\n",
       "      <td>-0.6277</td>\n",
       "      <td>-6.3723</td>\n",
       "      <td>x² + 7x + 4 = 0</td>\n",
       "    </tr>\n",
       "    <tr>\n",
       "      <th>1</th>\n",
       "      <td>eqn_0001</td>\n",
       "      <td>quadratic/eqn_0001</td>\n",
       "      <td>15</td>\n",
       "      <td>-22</td>\n",
       "      <td>-76</td>\n",
       "      <td>3.1007</td>\n",
       "      <td>-1.6340</td>\n",
       "      <td>15x² - 22x = 76</td>\n",
       "    </tr>\n",
       "    <tr>\n",
       "      <th>2</th>\n",
       "      <td>eqn_0002</td>\n",
       "      <td>quadratic/eqn_0002</td>\n",
       "      <td>12</td>\n",
       "      <td>33</td>\n",
       "      <td>22</td>\n",
       "      <td>-1.1356</td>\n",
       "      <td>-1.6144</td>\n",
       "      <td>33x + 22 = -12x²</td>\n",
       "    </tr>\n",
       "    <tr>\n",
       "      <th>3</th>\n",
       "      <td>eqn_0003</td>\n",
       "      <td>quadratic/eqn_0003</td>\n",
       "      <td>14</td>\n",
       "      <td>-10</td>\n",
       "      <td>-25</td>\n",
       "      <td>1.7404</td>\n",
       "      <td>-1.0261</td>\n",
       "      <td>14x² - 10x = 25</td>\n",
       "    </tr>\n",
       "    <tr>\n",
       "      <th>4</th>\n",
       "      <td>eqn_0004</td>\n",
       "      <td>quadratic/eqn_0004</td>\n",
       "      <td>4</td>\n",
       "      <td>10</td>\n",
       "      <td>-6</td>\n",
       "      <td>0.5000</td>\n",
       "      <td>-3.0000</td>\n",
       "      <td>4x² + 10x - 6 = 0</td>\n",
       "    </tr>\n",
       "    <tr>\n",
       "      <th>...</th>\n",
       "      <td>...</td>\n",
       "      <td>...</td>\n",
       "      <td>...</td>\n",
       "      <td>...</td>\n",
       "      <td>...</td>\n",
       "      <td>...</td>\n",
       "      <td>...</td>\n",
       "      <td>...</td>\n",
       "    </tr>\n",
       "    <tr>\n",
       "      <th>1995</th>\n",
       "      <td>eqn_1995</td>\n",
       "      <td>quadratic/eqn_1995</td>\n",
       "      <td>5</td>\n",
       "      <td>38</td>\n",
       "      <td>9</td>\n",
       "      <td>-0.2447</td>\n",
       "      <td>-7.3553</td>\n",
       "      <td>38x + 9 = -5x²</td>\n",
       "    </tr>\n",
       "    <tr>\n",
       "      <th>1996</th>\n",
       "      <td>eqn_1996</td>\n",
       "      <td>quadratic/eqn_1996</td>\n",
       "      <td>17</td>\n",
       "      <td>-24</td>\n",
       "      <td>4</td>\n",
       "      <td>1.2187</td>\n",
       "      <td>0.1931</td>\n",
       "      <td>17x² - 24x = -4</td>\n",
       "    </tr>\n",
       "    <tr>\n",
       "      <th>1997</th>\n",
       "      <td>eqn_1997</td>\n",
       "      <td>quadratic/eqn_1997</td>\n",
       "      <td>2</td>\n",
       "      <td>8</td>\n",
       "      <td>-5</td>\n",
       "      <td>0.5495</td>\n",
       "      <td>-4.5495</td>\n",
       "      <td>2x² + 8x - 5 = 0</td>\n",
       "    </tr>\n",
       "    <tr>\n",
       "      <th>1998</th>\n",
       "      <td>eqn_1998</td>\n",
       "      <td>quadratic/eqn_1998</td>\n",
       "      <td>1</td>\n",
       "      <td>9</td>\n",
       "      <td>7</td>\n",
       "      <td>-0.8599</td>\n",
       "      <td>-8.1401</td>\n",
       "      <td>x² + 9x + 7 = 0</td>\n",
       "    </tr>\n",
       "    <tr>\n",
       "      <th>1999</th>\n",
       "      <td>eqn_1999</td>\n",
       "      <td>quadratic/eqn_1999</td>\n",
       "      <td>16</td>\n",
       "      <td>79</td>\n",
       "      <td>26</td>\n",
       "      <td>-0.3546</td>\n",
       "      <td>-4.5829</td>\n",
       "      <td>79x + 26 = -16x²</td>\n",
       "    </tr>\n",
       "  </tbody>\n",
       "</table>\n",
       "<p>2000 rows × 8 columns</p>\n",
       "</div>"
      ]
     },
     "metadata": {},
     "execution_count": 199
    }
   ],
   "metadata": {}
  },
  {
   "cell_type": "code",
   "execution_count": 200,
   "source": [
    "# transformers = transforms.Compose([\r\n",
    "#     transforms.\r\n",
    "# ])"
   ],
   "outputs": [],
   "metadata": {}
  },
  {
   "cell_type": "code",
   "execution_count": 201,
   "source": [
    "class Quadratic_Dataset(Dataset):\r\n",
    "    def __init__(self,path,targets = None):\r\n",
    "        self.path =  path\r\n",
    "        self.targets = targets\r\n",
    "        self.dir_path = \"../Data/Images of Equations/\"\r\n",
    "    \r\n",
    "    def __len__(self):\r\n",
    "        return len(self.path)\r\n",
    "    \r\n",
    "    def __getitem__(self, index):\r\n",
    "        image_path = self.dir_path + self.path[index] + \".png\"\r\n",
    "        image = cv2.imread(image_path)\r\n",
    "        image = cv2.resize(image,(100,100))\r\n",
    "        if self.targets is None:\r\n",
    "            return torch.tensor(image).float().reshape(3,100,100)/256\r\n",
    "        else:\r\n",
    "            return torch.tensor(image).float().reshape(3,100,100)/256 , torch.tensor(self.targets[index]).float()\r\n"
   ],
   "outputs": [],
   "metadata": {}
  },
  {
   "cell_type": "markdown",
   "source": [
    "Sanity Check to Make Sure of what you are sending to the model"
   ],
   "metadata": {}
  },
  {
   "cell_type": "code",
   "execution_count": 202,
   "source": [
    "dataset = Quadratic_Dataset(path = df[\"id\"].values , targets = df[\"a\"].values)\r\n",
    "next(iter(DataLoader(dataset , batch_size = 1 , shuffle = True)))"
   ],
   "outputs": [
    {
     "output_type": "execute_result",
     "data": {
      "text/plain": [
       "[tensor([[[[0.9961, 0.9961, 0.9961,  ..., 0.9961, 0.9961, 0.9961],\n",
       "           [0.9961, 0.9961, 0.9961,  ..., 0.9961, 0.9961, 0.9961],\n",
       "           [0.9961, 0.9961, 0.9961,  ..., 0.9961, 0.9961, 0.9961],\n",
       "           ...,\n",
       "           [0.1797, 0.1797, 0.0117,  ..., 0.9961, 0.9961, 0.9961],\n",
       "           [0.9961, 0.9961, 0.9961,  ..., 0.9961, 0.9961, 0.9961],\n",
       "           [0.9961, 0.9961, 0.9961,  ..., 0.9961, 0.9961, 0.9961]],\n",
       " \n",
       "          [[0.9961, 0.9961, 0.0000,  ..., 0.9961, 0.9961, 0.9961],\n",
       "           [0.9961, 0.9961, 0.9961,  ..., 0.9961, 0.9961, 0.9961],\n",
       "           [0.9961, 0.9961, 0.9961,  ..., 0.9961, 0.9961, 0.9961],\n",
       "           ...,\n",
       "           [0.9961, 0.9961, 0.9961,  ..., 0.9961, 0.9961, 0.9961],\n",
       "           [0.9961, 0.9961, 0.9961,  ..., 0.9961, 0.9961, 0.9961],\n",
       "           [0.9961, 0.9961, 0.9961,  ..., 0.9961, 0.9961, 0.9961]],\n",
       " \n",
       "          [[0.9961, 0.9961, 0.9961,  ..., 0.9961, 0.9961, 0.9961],\n",
       "           [0.9961, 0.9961, 0.9961,  ..., 0.9961, 0.9961, 0.9961],\n",
       "           [0.9961, 0.9961, 0.9961,  ..., 0.9961, 0.9961, 0.9961],\n",
       "           ...,\n",
       "           [0.9961, 0.9961, 0.9961,  ..., 0.9961, 0.9961, 0.9961],\n",
       "           [0.9961, 0.9961, 0.9961,  ..., 0.9961, 0.9961, 0.9961],\n",
       "           [0.9961, 0.9961, 0.9961,  ..., 0.9961, 0.9961, 0.9961]]]]),\n",
       " tensor([5.])]"
      ]
     },
     "metadata": {},
     "execution_count": 202
    }
   ],
   "metadata": {}
  },
  {
   "cell_type": "code",
   "execution_count": 203,
   "source": [
    "train_df , test_df = train_test_split(df,test_size = 0.33 , random_state= 42)\r\n",
    "train_df , val_df = train_test_split(test_df,test_size = 0.33 , random_state= 42)"
   ],
   "outputs": [],
   "metadata": {}
  },
  {
   "cell_type": "code",
   "execution_count": 204,
   "source": [
    "class Quadratic_Module(pl.LightningDataModule):\r\n",
    "    def __init__(self):\r\n",
    "        super().__init__()\r\n",
    "        self.train_dataset = Quadratic_Dataset(path = train_df[\"id\"].values , targets = train_df[\"a\"].values)\r\n",
    "        self.test_dataset = Quadratic_Dataset(path = test_df[\"id\"].values , targets = test_df[\"a\"].values)\r\n",
    "        self.val_dataset = Quadratic_Dataset(path = val_df[\"id\"].values , targets = val_df[\"a\"].values)\r\n",
    "\r\n",
    "    def prepare_data(self) :\r\n",
    "        pass\r\n",
    "    \r\n",
    "    def train_dataloader(self):\r\n",
    "        return DataLoader(self.train_dataset , batch_size = 32  , shuffle = True)\r\n",
    "\r\n",
    "    def test_dataloader(self):\r\n",
    "        return DataLoader(self.test_dataset , batch_size = 32  , shuffle = False)\r\n",
    "\r\n",
    "    def val_dataloader(self):\r\n",
    "        return DataLoader(self.val_dataset , batch_size = 32  , shuffle = False)\r\n"
   ],
   "outputs": [],
   "metadata": {}
  },
  {
   "cell_type": "markdown",
   "source": [
    "sanity check"
   ],
   "metadata": {}
  },
  {
   "cell_type": "code",
   "execution_count": 205,
   "source": [
    "x = torch.ones(1,3,100*100)\r\n",
    "linear = nn.Sequential(\r\n",
    "            nn.Flatten(),\r\n",
    "            nn.Linear(3*100*100 , 1)\r\n",
    "\r\n",
    "        )\r\n",
    "linear(x)"
   ],
   "outputs": [
    {
     "output_type": "execute_result",
     "data": {
      "text/plain": [
       "tensor([[0.8942]], grad_fn=<AddmmBackward>)"
      ]
     },
     "metadata": {},
     "execution_count": 205
    }
   ],
   "metadata": {}
  },
  {
   "cell_type": "code",
   "execution_count": 211,
   "source": [
    "class Quadratic_Model(pl.LightningModule):\r\n",
    "    def __init__(self):\r\n",
    "        super().__init__()\r\n",
    "        self.linear = nn.Sequential(\r\n",
    "            nn.Flatten(),\r\n",
    "            nn.Linear(3*100*100 ,10),\r\n",
    "            nn.LeakyReLU(0.33),\r\n",
    "            nn.Linear(10,1)\r\n",
    "\r\n",
    "        )\r\n",
    "        self.loss_func = nn.MSELoss()\r\n",
    "        \r\n",
    "    def forward(self,x):\r\n",
    "        out = self.linear(x)\r\n",
    "        return out\r\n",
    "    \r\n",
    "    def configure_optimizers(self):\r\n",
    "        optimizer = torch.optim.Adam(self.parameters(), lr = 1e-4)\r\n",
    "        return optimizer\r\n",
    "\r\n",
    "    def training_step(self,batch,batch_idx):\r\n",
    "        x , y_true = batch\r\n",
    "        y_pred = self(x)\r\n",
    "        loss = self.loss_func(y_true, y_pred)\r\n",
    "        self.log(\"train_loss\" , loss)\r\n",
    "        return loss\r\n",
    "    \r\n",
    "    def test_step(self,batch,batch_idx):\r\n",
    "        x , y_true = batch\r\n",
    "        y_pred = self(x)\r\n",
    "        loss = self.loss_func(y_true, y_pred)\r\n",
    "        self.log(\"test_loss\" , loss)\r\n",
    "        return loss\r\n",
    "    \r\n",
    "    def validation_step(self,batch,batch_idx):\r\n",
    "        x , y_true = batch\r\n",
    "        y_pred = self(x)\r\n",
    "        loss = self.loss_func(y_true, y_pred)\r\n",
    "        self.log(\"val_loss\" , loss)\r\n",
    "        return loss\r\n",
    "\r\n"
   ],
   "outputs": [],
   "metadata": {}
  },
  {
   "cell_type": "code",
   "execution_count": 212,
   "source": [
    "from pytorch_lightning.callbacks import ModelCheckpoint\r\n",
    "checkpoint = ModelCheckpoint(monitor= \"val_loss\" , \r\n",
    "mode = \"min\"\r\n",
    ")"
   ],
   "outputs": [],
   "metadata": {}
  },
  {
   "cell_type": "code",
   "execution_count": 213,
   "source": [
    "from pytorch_lightning import Trainer\r\n",
    "model = Quadratic_Model()\r\n",
    "module = Quadratic_Module()\r\n",
    "trainer = Trainer(max_epochs = 10,callbacks=[checkpoint])"
   ],
   "outputs": [
    {
     "output_type": "stream",
     "name": "stderr",
     "text": [
      "GPU available: False, used: False\n",
      "TPU available: False, using: 0 TPU cores\n",
      "IPU available: False, using: 0 IPUs\n"
     ]
    }
   ],
   "metadata": {}
  },
  {
   "cell_type": "code",
   "execution_count": 214,
   "source": [
    "trainer.fit(model,module)"
   ],
   "outputs": [
    {
     "output_type": "stream",
     "name": "stderr",
     "text": [
      "\n",
      "  | Name      | Type       | Params\n",
      "-----------------------------------------\n",
      "0 | linear    | Sequential | 300 K \n",
      "1 | loss_func | MSELoss    | 0     \n",
      "-----------------------------------------\n",
      "300 K     Trainable params\n",
      "0         Non-trainable params\n",
      "300 K     Total params\n",
      "1.200     Total estimated model params size (MB)\n"
     ]
    },
    {
     "output_type": "stream",
     "name": "stdout",
     "text": [
      "Validation sanity check:   0%|          | 0/2 [00:00<?, ?it/s]"
     ]
    },
    {
     "output_type": "stream",
     "name": "stderr",
     "text": [
      "C:\\Users\\Keegan Fernandes\\anaconda3\\lib\\site-packages\\pytorch_lightning\\trainer\\data_loading.py:105: UserWarning: The dataloader, val dataloader 0, does not have many workers which may be a bottleneck. Consider increasing the value of the `num_workers` argument` (try 4 which is the number of cpus on this machine) in the `DataLoader` init to improve performance.\n",
      "  rank_zero_warn(\n"
     ]
    },
    {
     "output_type": "stream",
     "name": "stdout",
     "text": [
      "Epoch 0:   0%|          | 0/21 [00:00<00:00, 500.87it/s]"
     ]
    },
    {
     "output_type": "stream",
     "name": "stderr",
     "text": [
      "C:\\Users\\Keegan Fernandes\\anaconda3\\lib\\site-packages\\torch\\nn\\modules\\loss.py:528: UserWarning: Using a target size (torch.Size([32, 1])) that is different to the input size (torch.Size([32])). This will likely lead to incorrect results due to broadcasting. Please ensure they have the same size.\n",
      "  return F.mse_loss(input, target, reduction=self.reduction)\n",
      "C:\\Users\\Keegan Fernandes\\anaconda3\\lib\\site-packages\\pytorch_lightning\\trainer\\data_loading.py:105: UserWarning: The dataloader, train dataloader, does not have many workers which may be a bottleneck. Consider increasing the value of the `num_workers` argument` (try 4 which is the number of cpus on this machine) in the `DataLoader` init to improve performance.\n",
      "  rank_zero_warn(\n",
      "C:\\Users\\Keegan Fernandes\\anaconda3\\lib\\site-packages\\pytorch_lightning\\trainer\\data_loading.py:322: UserWarning: The number of training samples (14) is smaller than the logging interval Trainer(log_every_n_steps=50). Set a lower value for log_every_n_steps if you want to see logs for the training epoch.\n",
      "  rank_zero_warn(\n"
     ]
    },
    {
     "output_type": "stream",
     "name": "stdout",
     "text": [
      "Epoch 0:  67%|██████▋   | 14/21 [00:02<00:01,  5.16it/s, loss=42.7, v_num=10]"
     ]
    },
    {
     "output_type": "stream",
     "name": "stderr",
     "text": [
      "C:\\Users\\Keegan Fernandes\\anaconda3\\lib\\site-packages\\torch\\nn\\modules\\loss.py:528: UserWarning: Using a target size (torch.Size([26, 1])) that is different to the input size (torch.Size([26])). This will likely lead to incorrect results due to broadcasting. Please ensure they have the same size.\n",
      "  return F.mse_loss(input, target, reduction=self.reduction)\n"
     ]
    },
    {
     "output_type": "stream",
     "name": "stdout",
     "text": [
      "Epoch 9: 100%|██████████| 21/21 [00:02<00:00,  8.30it/s, loss=37.9, v_num=10]\n"
     ]
    }
   ],
   "metadata": {}
  },
  {
   "cell_type": "code",
   "execution_count": null,
   "source": [
    "trainer.test()\r\n"
   ],
   "outputs": [],
   "metadata": {}
  }
 ],
 "metadata": {
  "orig_nbformat": 4,
  "language_info": {
   "name": "python",
   "version": "3.8.8",
   "mimetype": "text/x-python",
   "codemirror_mode": {
    "name": "ipython",
    "version": 3
   },
   "pygments_lexer": "ipython3",
   "nbconvert_exporter": "python",
   "file_extension": ".py"
  },
  "kernelspec": {
   "name": "python3",
   "display_name": "Python 3.8.8 64-bit ('base': conda)"
  },
  "interpreter": {
   "hash": "4d4a3dd4375ee30bcdff52ac50802b9d969049935209e01e98bdd8a1e4960c49"
  }
 },
 "nbformat": 4,
 "nbformat_minor": 2
}